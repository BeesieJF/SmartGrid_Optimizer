{
  "cells": [
    {
      "cell_type": "markdown",
      "metadata": {
        "id": "vn-KU6ameEB8"
      },
      "source": [
        "# This is the SmartGrid Optimizier notebook that accepts Energy Demand, Supply and Storage data, and then displays a recommendation for maximum optimization and sustainability of the Grid's output."
      ]
    },
    {
      "cell_type": "code",
      "source": [
        "#!pip install google-api-python-client\n",
        "!pip install google-api-python-client google-cloud-aiplatform\n",
        "\n",
        "\n",
        "#import libraries & dependencies\n",
        "import os\n",
        "from google.api_core.client_options import ClientOptions\n",
        "from google.cloud import aiplatform\n",
        "from google.protobuf import json_format\n",
        "from googleapiclient.discovery import build\n",
        "\n",
        "from google.colab import userdata\n",
        "from IPython.display import HTML\n",
        "import ipywidgets as widgets\n",
        "from IPython.display import display"
      ],
      "metadata": {
        "id": "6HmY0P2I0kQ6"
      },
      "execution_count": null,
      "outputs": []
    },
    {
      "cell_type": "code",
      "source": [
        "# Create input widgets\n",
        "supply_input = widgets.FloatText(description='Supply Capacity (MW):', value=1000)\n",
        "demand_input = widgets.FloatText(description='Demand (MW):', value=800)\n",
        "storage_input = widgets.FloatText(description='Storage (MWh):', value=100)\n",
        "analyze_button = widgets.Button(description='Analyze Grid')\n",
        "output = widgets.Output()"
      ],
      "metadata": {
        "id": "SQVKDL1N1AY4"
      },
      "execution_count": 29,
      "outputs": []
    },
    {
      "cell_type": "code",
      "source": [
        "def analyze_energy_grid(supply_capacity, demand, storage_capacity):\n",
        "    \"\"\"Analyzes energy grid parameters and provides recommendations.\"\"\"\n",
        "    # Calculate metrics\n",
        "    reserve_margin = ((supply_capacity - demand) / demand) * 100\n",
        "    storage_ratio = (storage_capacity / demand) * 100\n",
        "\n",
        "    # Initialize results\n",
        "    recommendations = []\n",
        "    status_color = \"#e8f5e9\"  # Default is green to indicate stability\n",
        "\n",
        "    # Analyze reserve margin\n",
        "    if reserve_margin < 15:\n",
        "        status_color = \"#ffebee\"  # Red represents a critical state of the Grid\n",
        "        if reserve_margin < 0:\n",
        "            recommendations.append(\"URGENT: Supply cannot meet demand. Immediate action required.\")\n",
        "        else:\n",
        "            recommendations.append(\"Warning: Reserve margin below 15%. Add generation capacity.\")\n",
        "    elif reserve_margin > 30:\n",
        "        recommendations.append(\"Supply excess. Consider optimizing resources.\")\n",
        "\n",
        "    # Analyze storage\n",
        "    if storage_ratio < 10:\n",
        "        status_color = \"#fff3e0\"  # Orange indicate a warning\n",
        "        recommendations.append(\"Low storage capacity. Consider additional storage.\")\n",
        "    elif storage_ratio < 5:\n",
        "        status_color = \"#ffebee\"  # Red represents a critical state of the Grid\n",
        "        recommendations.append(\"Critical: Very low storage capacity.\")\n",
        "\n",
        "    if not recommendations:\n",
        "        recommendations.append(\"Grid parameters are stable.\")\n",
        "\n",
        "    return reserve_margin, storage_ratio, recommendations, status_color"
      ],
      "metadata": {
        "id": "OpvQidVd3AhL"
      },
      "execution_count": 30,
      "outputs": []
    },
    {
      "cell_type": "code",
      "source": [
        "def generate_sustainability_recommendation(demand_data, supply_data, storage_data):\n",
        "    # Initialize my projectid, model and API key\n",
        "    api_key = userdata.get('SmartGridOpt_key')\n",
        "    project_id = userdata.get('SmartGridOpt_pid')\n",
        "    mymodel = \"Gemini 1.5 Flash\"\n",
        "\n",
        "    # Initialize the Gemini API client\n",
        "    aiplatform.init(project=project_id, location=\"us-central1\", api_key=api_key)\n",
        "\n",
        "    # Set the endpoint for the API\n",
        "    endpoint = \"us-central1-aiplatform.googleapis.com\"\n",
        "\n",
        "    # Create an AIPlatform client with your API key and endpoint\n",
        "    #client_option = ClientOptions(api_endpoint=endpoint, api_key=api_key)\n",
        "    aiplatform.init(project=project_id, location=\"us-central1\", api_endpoint=endpoint, api_key=api_key)\n",
        "\n",
        "    # Constructing the prompt with the provided data\n",
        "    prompt = f\"\"\"\n",
        "    Given the following data on demand, supply, and storage, generate recommendations focused on sustainability of the Energy Grid.\n",
        "\n",
        "    Demand Data:\n",
        "    {demand_data}\n",
        "\n",
        "    Supply Data:\n",
        "    {supply_data}\n",
        "\n",
        "    Storage Data:\n",
        "    {storage_data}\n",
        "\n",
        "    Please consider optimizing for minimal environmental impact, efficient resource use, and improved sustainability.\n",
        "    \"\"\"\n",
        "\n",
        "  # Define the model\n",
        "    model = aiplatform.gapic.ModelServiceClient.model_path(project_id, 'us-central1', mymodel)\n",
        "\n",
        "  # Define the instance (input)\n",
        "    instance = {\"content\": prompt}\n",
        "\n",
        "  # Make the prediction request\n",
        "    #response = aiplatform.gapic.PredictRequest()\n",
        "    response = model.predict(instance)\n",
        "\n",
        "  # Extract the prediction\n",
        "    return json_format.MessageToJson(response.predictions[0].parameters)\n",
        "\n"
      ],
      "metadata": {
        "collapsed": true,
        "id": "AeRNUfGgj-B2"
      },
      "execution_count": null,
      "outputs": []
    },
    {
      "cell_type": "code",
      "source": [
        "def on_button_click(b):\n",
        "    with output:\n",
        "        output.clear_output()\n",
        "\n",
        "        # Get values from inputs\n",
        "        supply = supply_input.value\n",
        "        demand = demand_input.value\n",
        "        storage = storage_input.value\n",
        "\n",
        "        # Perform analysis\n",
        "        reserve_margin, storage_ratio, recommendations, status_color = analyze_energy_grid(supply, demand, storage)\n",
        "\n",
        "        # Display results\n",
        "        display(HTML(f\"\"\"\n",
        "        <div style=\"padding: 15px; background-color: {status_color}; border-radius: 5px; margin: 10px 0;\">\n",
        "            <h3>Analysis Results</h3>\n",
        "            <p><strong>Reserve Margin:</strong> {reserve_margin:.1f}%</p>\n",
        "            <p><strong>Storage Ratio:</strong> {storage_ratio:.1f}%</p>\n",
        "            <h4>Recommendations:</h4>\n",
        "            <ul>{''.join([f'<li>{r}</li>' for r in recommendations])}</ul>\n",
        "        </div>\n",
        "        \"\"\"))"
      ],
      "metadata": {
        "id": "Q_ugFBKD4f9h"
      },
      "execution_count": 32,
      "outputs": []
    },
    {
      "cell_type": "code",
      "source": [
        "# Connect button to function\n",
        "analyze_button.on_click(on_button_click)"
      ],
      "metadata": {
        "id": "QskqnapY82Jb"
      },
      "execution_count": 33,
      "outputs": []
    },
    {
      "cell_type": "code",
      "source": [
        "# Display the interface\n",
        "print(\"Energy Grid Sustainability Analyzer\")\n",
        "print(\"----------------------------------\")\n",
        "display(supply_input)\n",
        "display(demand_input)\n",
        "display(storage_input)\n",
        "display(analyze_button)\n",
        "display(output)"
      ],
      "metadata": {
        "colab": {
          "base_uri": "https://localhost:8080/",
          "height": 374,
          "referenced_widgets": [
            "20afc96a2b1d4f0b8e1b540232e68444",
            "8907f0a00d544929a2a6a47bd0aa5c34",
            "50f2e08cfb5e486b8ecc647258b51660",
            "e71e2689e6514054b62ab9f4d9f064c2",
            "b3a390d2134549ff9b0d2f5ec670fba2",
            "e47486965d1d47d18835625f62ea9f53",
            "e731948824e74d27bd1c3433517e9ff1",
            "501fdf920944435288f2714b19deae85",
            "4c776b169c5e471780f0b5927cdcf41a",
            "2cedcb8741f245e0bbda7ec07b327009",
            "fede0842958749e393fe1fd60177e59d",
            "623dfe3cb5f34749818f6762feaf33a6",
            "070210e48b6f48efbf95a279996df321",
            "d6085cf385e44a0486f954dd572bdc11"
          ]
        },
        "id": "jOe5RtI08_7n",
        "outputId": "317b213e-132a-4359-e63a-2d783ea805bb"
      },
      "execution_count": 34,
      "outputs": [
        {
          "output_type": "stream",
          "name": "stdout",
          "text": [
            "Energy Grid Sustainability Analyzer\n",
            "----------------------------------\n"
          ]
        },
        {
          "output_type": "display_data",
          "data": {
            "text/plain": [
              "FloatText(value=1000.0, description='Supply Capacity (MW):')"
            ],
            "application/vnd.jupyter.widget-view+json": {
              "version_major": 2,
              "version_minor": 0,
              "model_id": "20afc96a2b1d4f0b8e1b540232e68444"
            }
          },
          "metadata": {}
        },
        {
          "output_type": "display_data",
          "data": {
            "text/plain": [
              "FloatText(value=800.0, description='Demand (MW):')"
            ],
            "application/vnd.jupyter.widget-view+json": {
              "version_major": 2,
              "version_minor": 0,
              "model_id": "e71e2689e6514054b62ab9f4d9f064c2"
            }
          },
          "metadata": {}
        },
        {
          "output_type": "display_data",
          "data": {
            "text/plain": [
              "FloatText(value=100.0, description='Storage (MWh):')"
            ],
            "application/vnd.jupyter.widget-view+json": {
              "version_major": 2,
              "version_minor": 0,
              "model_id": "e731948824e74d27bd1c3433517e9ff1"
            }
          },
          "metadata": {}
        },
        {
          "output_type": "display_data",
          "data": {
            "text/plain": [
              "Button(description='Analyze Grid', style=ButtonStyle())"
            ],
            "application/vnd.jupyter.widget-view+json": {
              "version_major": 2,
              "version_minor": 0,
              "model_id": "2cedcb8741f245e0bbda7ec07b327009"
            }
          },
          "metadata": {}
        },
        {
          "output_type": "display_data",
          "data": {
            "text/plain": [
              "Output()"
            ],
            "application/vnd.jupyter.widget-view+json": {
              "version_major": 2,
              "version_minor": 0,
              "model_id": "070210e48b6f48efbf95a279996df321"
            }
          },
          "metadata": {}
        }
      ]
    },
    {
      "cell_type": "code",
      "source": [
        "# Generate Gemini recommendations\n",
        "recommendatns = generate_sustainability_recommendation(demand_input, supply_input, storage_input)\n",
        "print(\"Sustainability Recommendations:\\n\", recommendatns)"
      ],
      "metadata": {
        "collapsed": true,
        "id": "MoDgOc0N6-AT"
      },
      "execution_count": null,
      "outputs": []
    },
    {
      "cell_type": "markdown",
      "source": [],
      "metadata": {
        "id": "yxlBJXB0j91z"
      }
    }
  ],
  "metadata": {
    "colab": {
      "provenance": []
    },
    "kernelspec": {
      "display_name": "Python 3",
      "name": "python3"
    },
    "language_info": {
      "name": "python"
    },
    "widgets": {
      "application/vnd.jupyter.widget-state+json": {
        "20afc96a2b1d4f0b8e1b540232e68444": {
          "model_module": "@jupyter-widgets/controls",
          "model_name": "FloatTextModel",
          "model_module_version": "1.5.0",
          "state": {
            "_dom_classes": [],
            "_model_module": "@jupyter-widgets/controls",
            "_model_module_version": "1.5.0",
            "_model_name": "FloatTextModel",
            "_view_count": null,
            "_view_module": "@jupyter-widgets/controls",
            "_view_module_version": "1.5.0",
            "_view_name": "FloatTextView",
            "continuous_update": false,
            "description": "Supply Capacity (MW):",
            "description_tooltip": null,
            "disabled": false,
            "layout": "IPY_MODEL_8907f0a00d544929a2a6a47bd0aa5c34",
            "step": null,
            "style": "IPY_MODEL_50f2e08cfb5e486b8ecc647258b51660",
            "value": 1000
          }
        },
        "8907f0a00d544929a2a6a47bd0aa5c34": {
          "model_module": "@jupyter-widgets/base",
          "model_name": "LayoutModel",
          "model_module_version": "1.2.0",
          "state": {
            "_model_module": "@jupyter-widgets/base",
            "_model_module_version": "1.2.0",
            "_model_name": "LayoutModel",
            "_view_count": null,
            "_view_module": "@jupyter-widgets/base",
            "_view_module_version": "1.2.0",
            "_view_name": "LayoutView",
            "align_content": null,
            "align_items": null,
            "align_self": null,
            "border": null,
            "bottom": null,
            "display": null,
            "flex": null,
            "flex_flow": null,
            "grid_area": null,
            "grid_auto_columns": null,
            "grid_auto_flow": null,
            "grid_auto_rows": null,
            "grid_column": null,
            "grid_gap": null,
            "grid_row": null,
            "grid_template_areas": null,
            "grid_template_columns": null,
            "grid_template_rows": null,
            "height": null,
            "justify_content": null,
            "justify_items": null,
            "left": null,
            "margin": null,
            "max_height": null,
            "max_width": null,
            "min_height": null,
            "min_width": null,
            "object_fit": null,
            "object_position": null,
            "order": null,
            "overflow": null,
            "overflow_x": null,
            "overflow_y": null,
            "padding": null,
            "right": null,
            "top": null,
            "visibility": null,
            "width": null
          }
        },
        "50f2e08cfb5e486b8ecc647258b51660": {
          "model_module": "@jupyter-widgets/controls",
          "model_name": "DescriptionStyleModel",
          "model_module_version": "1.5.0",
          "state": {
            "_model_module": "@jupyter-widgets/controls",
            "_model_module_version": "1.5.0",
            "_model_name": "DescriptionStyleModel",
            "_view_count": null,
            "_view_module": "@jupyter-widgets/base",
            "_view_module_version": "1.2.0",
            "_view_name": "StyleView",
            "description_width": ""
          }
        },
        "e71e2689e6514054b62ab9f4d9f064c2": {
          "model_module": "@jupyter-widgets/controls",
          "model_name": "FloatTextModel",
          "model_module_version": "1.5.0",
          "state": {
            "_dom_classes": [],
            "_model_module": "@jupyter-widgets/controls",
            "_model_module_version": "1.5.0",
            "_model_name": "FloatTextModel",
            "_view_count": null,
            "_view_module": "@jupyter-widgets/controls",
            "_view_module_version": "1.5.0",
            "_view_name": "FloatTextView",
            "continuous_update": false,
            "description": "Demand (MW):",
            "description_tooltip": null,
            "disabled": false,
            "layout": "IPY_MODEL_b3a390d2134549ff9b0d2f5ec670fba2",
            "step": null,
            "style": "IPY_MODEL_e47486965d1d47d18835625f62ea9f53",
            "value": 800
          }
        },
        "b3a390d2134549ff9b0d2f5ec670fba2": {
          "model_module": "@jupyter-widgets/base",
          "model_name": "LayoutModel",
          "model_module_version": "1.2.0",
          "state": {
            "_model_module": "@jupyter-widgets/base",
            "_model_module_version": "1.2.0",
            "_model_name": "LayoutModel",
            "_view_count": null,
            "_view_module": "@jupyter-widgets/base",
            "_view_module_version": "1.2.0",
            "_view_name": "LayoutView",
            "align_content": null,
            "align_items": null,
            "align_self": null,
            "border": null,
            "bottom": null,
            "display": null,
            "flex": null,
            "flex_flow": null,
            "grid_area": null,
            "grid_auto_columns": null,
            "grid_auto_flow": null,
            "grid_auto_rows": null,
            "grid_column": null,
            "grid_gap": null,
            "grid_row": null,
            "grid_template_areas": null,
            "grid_template_columns": null,
            "grid_template_rows": null,
            "height": null,
            "justify_content": null,
            "justify_items": null,
            "left": null,
            "margin": null,
            "max_height": null,
            "max_width": null,
            "min_height": null,
            "min_width": null,
            "object_fit": null,
            "object_position": null,
            "order": null,
            "overflow": null,
            "overflow_x": null,
            "overflow_y": null,
            "padding": null,
            "right": null,
            "top": null,
            "visibility": null,
            "width": null
          }
        },
        "e47486965d1d47d18835625f62ea9f53": {
          "model_module": "@jupyter-widgets/controls",
          "model_name": "DescriptionStyleModel",
          "model_module_version": "1.5.0",
          "state": {
            "_model_module": "@jupyter-widgets/controls",
            "_model_module_version": "1.5.0",
            "_model_name": "DescriptionStyleModel",
            "_view_count": null,
            "_view_module": "@jupyter-widgets/base",
            "_view_module_version": "1.2.0",
            "_view_name": "StyleView",
            "description_width": ""
          }
        },
        "e731948824e74d27bd1c3433517e9ff1": {
          "model_module": "@jupyter-widgets/controls",
          "model_name": "FloatTextModel",
          "model_module_version": "1.5.0",
          "state": {
            "_dom_classes": [],
            "_model_module": "@jupyter-widgets/controls",
            "_model_module_version": "1.5.0",
            "_model_name": "FloatTextModel",
            "_view_count": null,
            "_view_module": "@jupyter-widgets/controls",
            "_view_module_version": "1.5.0",
            "_view_name": "FloatTextView",
            "continuous_update": false,
            "description": "Storage (MWh):",
            "description_tooltip": null,
            "disabled": false,
            "layout": "IPY_MODEL_501fdf920944435288f2714b19deae85",
            "step": null,
            "style": "IPY_MODEL_4c776b169c5e471780f0b5927cdcf41a",
            "value": 100
          }
        },
        "501fdf920944435288f2714b19deae85": {
          "model_module": "@jupyter-widgets/base",
          "model_name": "LayoutModel",
          "model_module_version": "1.2.0",
          "state": {
            "_model_module": "@jupyter-widgets/base",
            "_model_module_version": "1.2.0",
            "_model_name": "LayoutModel",
            "_view_count": null,
            "_view_module": "@jupyter-widgets/base",
            "_view_module_version": "1.2.0",
            "_view_name": "LayoutView",
            "align_content": null,
            "align_items": null,
            "align_self": null,
            "border": null,
            "bottom": null,
            "display": null,
            "flex": null,
            "flex_flow": null,
            "grid_area": null,
            "grid_auto_columns": null,
            "grid_auto_flow": null,
            "grid_auto_rows": null,
            "grid_column": null,
            "grid_gap": null,
            "grid_row": null,
            "grid_template_areas": null,
            "grid_template_columns": null,
            "grid_template_rows": null,
            "height": null,
            "justify_content": null,
            "justify_items": null,
            "left": null,
            "margin": null,
            "max_height": null,
            "max_width": null,
            "min_height": null,
            "min_width": null,
            "object_fit": null,
            "object_position": null,
            "order": null,
            "overflow": null,
            "overflow_x": null,
            "overflow_y": null,
            "padding": null,
            "right": null,
            "top": null,
            "visibility": null,
            "width": null
          }
        },
        "4c776b169c5e471780f0b5927cdcf41a": {
          "model_module": "@jupyter-widgets/controls",
          "model_name": "DescriptionStyleModel",
          "model_module_version": "1.5.0",
          "state": {
            "_model_module": "@jupyter-widgets/controls",
            "_model_module_version": "1.5.0",
            "_model_name": "DescriptionStyleModel",
            "_view_count": null,
            "_view_module": "@jupyter-widgets/base",
            "_view_module_version": "1.2.0",
            "_view_name": "StyleView",
            "description_width": ""
          }
        },
        "2cedcb8741f245e0bbda7ec07b327009": {
          "model_module": "@jupyter-widgets/controls",
          "model_name": "ButtonModel",
          "model_module_version": "1.5.0",
          "state": {
            "_dom_classes": [],
            "_model_module": "@jupyter-widgets/controls",
            "_model_module_version": "1.5.0",
            "_model_name": "ButtonModel",
            "_view_count": null,
            "_view_module": "@jupyter-widgets/controls",
            "_view_module_version": "1.5.0",
            "_view_name": "ButtonView",
            "button_style": "",
            "description": "Analyze Grid",
            "disabled": false,
            "icon": "",
            "layout": "IPY_MODEL_fede0842958749e393fe1fd60177e59d",
            "style": "IPY_MODEL_623dfe3cb5f34749818f6762feaf33a6",
            "tooltip": ""
          }
        },
        "fede0842958749e393fe1fd60177e59d": {
          "model_module": "@jupyter-widgets/base",
          "model_name": "LayoutModel",
          "model_module_version": "1.2.0",
          "state": {
            "_model_module": "@jupyter-widgets/base",
            "_model_module_version": "1.2.0",
            "_model_name": "LayoutModel",
            "_view_count": null,
            "_view_module": "@jupyter-widgets/base",
            "_view_module_version": "1.2.0",
            "_view_name": "LayoutView",
            "align_content": null,
            "align_items": null,
            "align_self": null,
            "border": null,
            "bottom": null,
            "display": null,
            "flex": null,
            "flex_flow": null,
            "grid_area": null,
            "grid_auto_columns": null,
            "grid_auto_flow": null,
            "grid_auto_rows": null,
            "grid_column": null,
            "grid_gap": null,
            "grid_row": null,
            "grid_template_areas": null,
            "grid_template_columns": null,
            "grid_template_rows": null,
            "height": null,
            "justify_content": null,
            "justify_items": null,
            "left": null,
            "margin": null,
            "max_height": null,
            "max_width": null,
            "min_height": null,
            "min_width": null,
            "object_fit": null,
            "object_position": null,
            "order": null,
            "overflow": null,
            "overflow_x": null,
            "overflow_y": null,
            "padding": null,
            "right": null,
            "top": null,
            "visibility": null,
            "width": null
          }
        },
        "623dfe3cb5f34749818f6762feaf33a6": {
          "model_module": "@jupyter-widgets/controls",
          "model_name": "ButtonStyleModel",
          "model_module_version": "1.5.0",
          "state": {
            "_model_module": "@jupyter-widgets/controls",
            "_model_module_version": "1.5.0",
            "_model_name": "ButtonStyleModel",
            "_view_count": null,
            "_view_module": "@jupyter-widgets/base",
            "_view_module_version": "1.2.0",
            "_view_name": "StyleView",
            "button_color": null,
            "font_weight": ""
          }
        },
        "070210e48b6f48efbf95a279996df321": {
          "model_module": "@jupyter-widgets/output",
          "model_name": "OutputModel",
          "model_module_version": "1.0.0",
          "state": {
            "_dom_classes": [],
            "_model_module": "@jupyter-widgets/output",
            "_model_module_version": "1.0.0",
            "_model_name": "OutputModel",
            "_view_count": null,
            "_view_module": "@jupyter-widgets/output",
            "_view_module_version": "1.0.0",
            "_view_name": "OutputView",
            "layout": "IPY_MODEL_d6085cf385e44a0486f954dd572bdc11",
            "msg_id": "",
            "outputs": [
              {
                "output_type": "display_data",
                "data": {
                  "text/plain": "<IPython.core.display.HTML object>",
                  "text/html": "\n        <div style=\"padding: 15px; background-color: #e8f5e9; border-radius: 5px; margin: 10px 0;\">\n            <h3>Analysis Results</h3>\n            <p><strong>Reserve Margin:</strong> 25.0%</p>\n            <p><strong>Storage Ratio:</strong> 12.5%</p>\n            <h4>Recommendations:</h4>\n            <ul><li>Grid parameters are stable.</li></ul>\n        </div>\n        "
                },
                "metadata": {}
              }
            ]
          }
        },
        "d6085cf385e44a0486f954dd572bdc11": {
          "model_module": "@jupyter-widgets/base",
          "model_name": "LayoutModel",
          "model_module_version": "1.2.0",
          "state": {
            "_model_module": "@jupyter-widgets/base",
            "_model_module_version": "1.2.0",
            "_model_name": "LayoutModel",
            "_view_count": null,
            "_view_module": "@jupyter-widgets/base",
            "_view_module_version": "1.2.0",
            "_view_name": "LayoutView",
            "align_content": null,
            "align_items": null,
            "align_self": null,
            "border": null,
            "bottom": null,
            "display": null,
            "flex": null,
            "flex_flow": null,
            "grid_area": null,
            "grid_auto_columns": null,
            "grid_auto_flow": null,
            "grid_auto_rows": null,
            "grid_column": null,
            "grid_gap": null,
            "grid_row": null,
            "grid_template_areas": null,
            "grid_template_columns": null,
            "grid_template_rows": null,
            "height": null,
            "justify_content": null,
            "justify_items": null,
            "left": null,
            "margin": null,
            "max_height": null,
            "max_width": null,
            "min_height": null,
            "min_width": null,
            "object_fit": null,
            "object_position": null,
            "order": null,
            "overflow": null,
            "overflow_x": null,
            "overflow_y": null,
            "padding": null,
            "right": null,
            "top": null,
            "visibility": null,
            "width": null
          }
        }
      }
    }
  },
  "nbformat": 4,
  "nbformat_minor": 0
}